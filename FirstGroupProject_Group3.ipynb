{
 "cells": [
  {
   "cell_type": "code",
   "execution_count": 1,
   "metadata": {},
   "outputs": [
    {
     "data": {
      "application/javascript": [
       "MathJax.Hub.Config({\n",
       "    TeX: { equationNumbers: { autoNumber: \"AMS\" } }\n",
       "});"
      ],
      "text/plain": [
       "<IPython.core.display.Javascript object>"
      ]
     },
     "metadata": {},
     "output_type": "display_data"
    }
   ],
   "source": [
    "%%javascript\n",
    "MathJax.Hub.Config({\n",
    "    TeX: { equationNumbers: { autoNumber: \"AMS\" } }\n",
    "});"
   ]
  },
  {
   "cell_type": "markdown",
   "metadata": {},
   "source": [
    "    Dehayem Nanwou Ornela\n",
    "    Azamuke Denish\n",
    "    Sabah Mirghani\n",
    "    Kariuki Joy Pamela Kina\n",
    "    Abraham Denis Mpandiko"
   ]
  },
  {
   "cell_type": "markdown",
   "metadata": {},
   "source": [
    "# $$\\text{Exercise 1}$$\n",
    "1. Let us consider the array $M$ defined below"
   ]
  },
  {
   "cell_type": "code",
   "execution_count": 2,
   "metadata": {
    "scrolled": true
   },
   "outputs": [
    {
     "data": {
      "text/plain": [
       "array([[ 80842, 333008, 202553, 140037,  81969,  63857,  42105, 261540],\n",
       "       [481981, 176739, 489984, 326386, 110795, 394863,  25024,  38317],\n",
       "       [ 49982, 408830, 485118,  16119, 407675, 231729, 265455, 109413],\n",
       "       [103399, 174677, 343356, 301717, 224120, 401101, 140473, 254634],\n",
       "       [112262,  25063, 108262, 375059, 406983, 208947, 115641, 296685],\n",
       "       [444899, 129585, 171318, 313094, 425041, 188411, 335140, 141681],\n",
       "       [ 59641, 211420, 287650,   8973, 477425, 382803, 465168,   3975],\n",
       "       [ 32213, 160603, 275485, 388234, 246225,  56174, 244097,   9350],\n",
       "       [496966, 225516, 273338,  73335, 283013, 212813,  38175, 282399],\n",
       "       [318413, 337639, 379802, 198049, 101115, 419547, 260219, 325793],\n",
       "       [148593, 425024, 348570, 117968, 107007,  52547, 180346, 178760],\n",
       "       [305186, 262153,  11835, 449971, 494184, 472031, 353049, 476442],\n",
       "       [ 35455, 191553, 384154,  29917, 187599,  68912, 428968,  69638],\n",
       "       [ 20140, 220691, 163112,  47862, 474879,  15713, 279173, 161443],\n",
       "       [ 76851, 450401, 193338, 189948, 211826, 384657,  17636, 189954],\n",
       "       [182580, 403458,  63004,  87202,  17143, 308769, 316192, 408259],\n",
       "       [379223, 322891, 302814, 309594,  13650,  68095, 327748,  27138],\n",
       "       [ 33346, 202960, 221234,  61986,  96524, 230606, 266487, 299766],\n",
       "       [ 46264,  33510, 434647,  26750, 412754, 346058, 263454, 270444],\n",
       "       [182770, 486269, 402948, 105055, 463911, 378799, 329053,  16793],\n",
       "       [379586, 293162, 121602, 144605, 105553,  71148,  40126, 183534],\n",
       "       [493338,   5241, 498084, 189451, 219466,  12869, 482845,  16529],\n",
       "       [145955, 461866, 427009,  70841, 318111, 199631,  99330, 407887],\n",
       "       [133826, 214053, 295543, 339707, 199545, 194494, 304822, 337793],\n",
       "       [395524, 206326, 308488, 297633, 472409, 487606, 422244, 443487],\n",
       "       [464749,  75275, 299486, 248984,  76076, 197544,  75103, 394086],\n",
       "       [404365,  67309, 267556,  96483, 166099, 203867,  57120, 211249],\n",
       "       [ 86992, 286426, 130451, 419955, 109839, 332663, 101095,  50820],\n",
       "       [108699, 436141, 333670,  45890, 425798,   6967, 155851, 360687],\n",
       "       [252907, 121138,  81509, 367876, 471831, 226950, 349068, 197092]])"
      ]
     },
     "execution_count": 2,
     "metadata": {},
     "output_type": "execute_result"
    }
   ],
   "source": [
    "import numpy as np\n",
    "M = np.array([[ 80842, 333008, 202553, 140037,  81969,  63857,  42105, 261540],\n",
    "       [481981, 176739, 489984, 326386, 110795, 394863,  25024,  38317],\n",
    "       [ 49982, 408830, 485118,  16119, 407675, 231729, 265455, 109413],\n",
    "       [103399, 174677, 343356, 301717, 224120, 401101, 140473, 254634],\n",
    "       [112262,  25063, 108262, 375059, 406983, 208947, 115641, 296685],\n",
    "       [444899, 129585, 171318, 313094, 425041, 188411, 335140, 141681],\n",
    "       [ 59641, 211420, 287650,   8973, 477425, 382803, 465168,   3975],\n",
    "       [ 32213, 160603, 275485, 388234, 246225,  56174, 244097,   9350],\n",
    "       [496966, 225516, 273338,  73335, 283013, 212813,  38175, 282399],\n",
    "       [318413, 337639, 379802, 198049, 101115, 419547, 260219, 325793],\n",
    "       [148593, 425024, 348570, 117968, 107007,  52547, 180346, 178760],\n",
    "       [305186, 262153,  11835, 449971, 494184, 472031, 353049, 476442],\n",
    "       [ 35455, 191553, 384154,  29917, 187599,  68912, 428968,  69638],\n",
    "       [ 20140, 220691, 163112,  47862, 474879,  15713, 279173, 161443],\n",
    "       [ 76851, 450401, 193338, 189948, 211826, 384657,  17636, 189954],\n",
    "       [182580, 403458,  63004,  87202,  17143, 308769, 316192, 408259],\n",
    "       [379223, 322891, 302814, 309594,  13650,  68095, 327748,  27138],\n",
    "       [ 33346, 202960, 221234,  61986,  96524, 230606, 266487, 299766],\n",
    "       [ 46264,  33510, 434647,  26750, 412754, 346058, 263454, 270444],\n",
    "       [182770, 486269, 402948, 105055, 463911, 378799, 329053,  16793],\n",
    "       [379586, 293162, 121602, 144605, 105553,  71148,  40126, 183534],\n",
    "       [493338,   5241, 498084, 189451, 219466,  12869, 482845,  16529],\n",
    "       [145955, 461866, 427009,  70841, 318111, 199631,  99330, 407887],\n",
    "       [133826, 214053, 295543, 339707, 199545, 194494, 304822, 337793],\n",
    "       [395524, 206326, 308488, 297633, 472409, 487606, 422244, 443487],\n",
    "       [464749,  75275, 299486, 248984,  76076, 197544,  75103, 394086],\n",
    "       [404365,  67309, 267556,  96483, 166099, 203867,  57120, 211249],\n",
    "       [ 86992, 286426, 130451, 419955, 109839, 332663, 101095,  50820],\n",
    "       [108699, 436141, 333670,  45890, 425798,   6967, 155851, 360687],\n",
    "       [252907, 121138,  81509, 367876, 471831, 226950, 349068, 197092]])\n",
    "M\n"
   ]
  },
  {
   "cell_type": "markdown",
   "metadata": {},
   "source": [
    "1. What is the average value of the second and fourth columns?"
   ]
  },
  {
   "cell_type": "code",
   "execution_count": 3,
   "metadata": {},
   "outputs": [
    {
     "data": {
      "text/plain": [
       "218960.13333333333"
      ]
     },
     "execution_count": 3,
     "metadata": {},
     "output_type": "execute_result"
    }
   ],
   "source": [
    "\n",
    "np.average(M[:, 1:4:2])\n"
   ]
  },
  {
   "cell_type": "markdown",
   "metadata": {},
   "source": [
    "2. What is the average value of the last 5 rows of the second and fourth columns?"
   ]
  },
  {
   "cell_type": "code",
   "execution_count": 4,
   "metadata": {},
   "outputs": [
    {
     "data": {
      "text/plain": [
       "216547.7"
      ]
     },
     "execution_count": 4,
     "metadata": {},
     "output_type": "execute_result"
    }
   ],
   "source": [
    "\n",
    "np.average(M[25:30, 1:4:2])\n"
   ]
  },
  {
   "cell_type": "markdown",
   "metadata": {},
   "source": [
    "3. Update $M$ by Replacing all its even integers by 0."
   ]
  },
  {
   "cell_type": "code",
   "execution_count": 5,
   "metadata": {},
   "outputs": [
    {
     "data": {
      "text/plain": [
       "array([[     0,      0, 202553, 140037,  81969,  63857,  42105,      0],\n",
       "       [481981, 176739,      0,      0, 110795, 394863,      0,  38317],\n",
       "       [     0,      0,      0,  16119, 407675, 231729, 265455, 109413],\n",
       "       [103399, 174677,      0, 301717,      0, 401101, 140473,      0],\n",
       "       [     0,  25063,      0, 375059, 406983, 208947, 115641, 296685],\n",
       "       [444899, 129585,      0,      0, 425041, 188411,      0, 141681],\n",
       "       [ 59641,      0,      0,   8973, 477425, 382803,      0,   3975],\n",
       "       [ 32213, 160603, 275485,      0, 246225,      0, 244097,      0],\n",
       "       [     0,      0,      0,  73335, 283013, 212813,  38175, 282399],\n",
       "       [318413, 337639,      0, 198049, 101115, 419547, 260219, 325793],\n",
       "       [148593,      0,      0,      0, 107007,  52547,      0,      0],\n",
       "       [     0, 262153,  11835, 449971,      0, 472031, 353049,      0],\n",
       "       [ 35455, 191553,      0,  29917, 187599,      0,      0,      0],\n",
       "       [     0, 220691,      0,      0, 474879,  15713, 279173, 161443],\n",
       "       [ 76851, 450401,      0,      0,      0, 384657,      0,      0],\n",
       "       [     0,      0,      0,      0,  17143, 308769,      0, 408259],\n",
       "       [379223, 322891,      0,      0,      0,  68095,      0,      0],\n",
       "       [     0,      0,      0,      0,      0,      0, 266487,      0],\n",
       "       [     0,      0, 434647,      0,      0,      0,      0,      0],\n",
       "       [     0, 486269,      0, 105055, 463911, 378799, 329053,  16793],\n",
       "       [     0,      0,      0, 144605, 105553,      0,      0,      0],\n",
       "       [     0,   5241,      0, 189451,      0,  12869, 482845,  16529],\n",
       "       [145955,      0, 427009,  70841, 318111, 199631,      0, 407887],\n",
       "       [     0, 214053, 295543, 339707, 199545,      0,      0, 337793],\n",
       "       [     0,      0,      0, 297633, 472409,      0,      0, 443487],\n",
       "       [464749,  75275,      0,      0,      0,      0,  75103,      0],\n",
       "       [404365,  67309,      0,  96483, 166099, 203867,      0, 211249],\n",
       "       [     0,      0, 130451, 419955, 109839, 332663, 101095,      0],\n",
       "       [108699, 436141,      0,      0,      0,   6967, 155851, 360687],\n",
       "       [252907,      0,  81509,      0, 471831,      0,      0,      0]])"
      ]
     },
     "execution_count": 5,
     "metadata": {},
     "output_type": "execute_result"
    }
   ],
   "source": [
    "np.where(M%2==0, 0,M)\n",
    "\n",
    "    "
   ]
  },
  {
   "cell_type": "markdown",
   "metadata": {},
   "source": [
    "# $$\\text{Exercise 2}$$\n",
    "\n",
    "Let $\\{ x_k\\}$ be a partition of $[a,b]$ such that $a=x_0<x_1<\\cdots<x_{N-1}<x_N=b$ and $H$ be the length of the $k$-th subinterval ($H = x_k - x_{k-1}$),\n",
    "then we have \n",
    "$$\\int_a^bf(x)dx \\approx \\sum_{k=1}^N \\frac{f(x_{k-1})+f(x_k)}{2}H = A$$\n",
    "\n",
    "\n",
    "Write a function named <b>Trap</b> that takes $a,b,N, f$ as inputs and return A"
   ]
  },
  {
   "cell_type": "code",
   "execution_count": 6,
   "metadata": {},
   "outputs": [
    {
     "data": {
      "text/plain": [
       "0.5000000000000002"
      ]
     },
     "execution_count": 6,
     "metadata": {},
     "output_type": "execute_result"
    }
   ],
   "source": [
    "import numpy as np\n",
    "def Trap(a,b,N,f):\n",
    "    x=np.linspace(a,b, N+1)\n",
    "    A=0\n",
    "    for k in range(1,N+1):\n",
    "        H= x[k]- x[k-1]\n",
    "        A = A + H*( (f(x[k-1]) + f(x[k]))/2)\n",
    "    return (A)\n",
    "Trap(0,1,10000, lambda x: x)"
   ]
  },
  {
   "cell_type": "markdown",
   "metadata": {},
   "source": [
    "# $$\\text{Exercise 3}$$\n",
    "\n",
    "Let us consider the function $f$ defined on the set of integer as follows \n",
    "\n",
    "\\begin{equation}\n",
    "f(n) =\n",
    "  \\begin{cases}\n",
    "    n/2       & \\quad \\text{if } n \\text{ is even}\\\\\n",
    "    -(n)/3 +1  & \\quad \\text{if } n \\text{ is odd and divisible by 3}\\\\\n",
    "    (n+1)/2 +1 & \\quad \\text{else}\n",
    "  \\end{cases}\n",
    "\\end{equation}\n",
    "\n",
    "Write a python function named <b> ComptFunc </b> that takes two intergers $a$ and $b$ , $a<b$ and return  an array $flist$ of all  $f(n), n \\in nlist$ where $nlist$ is the list of all the integers in the interval $[a,b]$."
   ]
  },
  {
   "cell_type": "code",
   "execution_count": 7,
   "metadata": {},
   "outputs": [],
   "source": [
    "def First(n):\n",
    "    if n%2==0:\n",
    "        return (n/2)\n",
    "    elif n%2!=0 and n%3==0:\n",
    "        return((-n/3)+1)\n",
    "    else: \n",
    "        return(1+ (n+1)/2)\n",
    "flist= np.vectorize(First)   \n",
    " \n",
    "    "
   ]
  },
  {
   "cell_type": "code",
   "execution_count": 8,
   "metadata": {},
   "outputs": [
    {
     "data": {
      "text/plain": [
       "array([-5.,  4., -4., -2., -3., -1., -2.,  2., -1.,  1.,  0.,  2.,  1.,\n",
       "        0.,  2.,  4.,  3.,  5.,  4., -2.,  5.,  7.,  6.,  8.,  7., -4.])"
      ]
     },
     "execution_count": 8,
     "metadata": {},
     "output_type": "execute_result"
    }
   ],
   "source": [
    "def ComptFunc(a,b):\n",
    "    nlist=np.arange(a,b+1)\n",
    "    return(flist(nlist))\n",
    "ComptFunc(-10,15)"
   ]
  },
  {
   "cell_type": "markdown",
   "metadata": {},
   "source": [
    "# $$\\text{Exercise 4}$$\n",
    "\n",
    "Write a python code to create the following numpy arrays\n",
    "$$\n",
    "A = \\begin{pmatrix}\n",
    "1 & 4 & 6 \\\\ \n",
    "0 & -3 & 2 \\\\ \n",
    "-2 & -2 & -2\t\n",
    "\\end{pmatrix}, \\quad\n",
    "B = \\begin{pmatrix}\n",
    "2 & -1 & 0 \\\\ \n",
    "2 & -1 & 0 \\\\ \n",
    "2 & -3 & 1\n",
    "\\end{pmatrix},\n",
    "$$\n",
    "and compute \n",
    "- $A-B$, \n",
    "- $4A + B$, \n",
    "- $trace(A)$, \n",
    "- $B^t$ the transpose of $B$, \n",
    "- $AB$, \n",
    "- $BA^t$, \n",
    "- the determinant of $A$"
   ]
  },
  {
   "cell_type": "code",
   "execution_count": 9,
   "metadata": {},
   "outputs": [
    {
     "name": "stdout",
     "output_type": "stream",
     "text": [
      "[[-1  5  6]\n",
      " [-2 -2  2]\n",
      " [-4  1 -3]]\n",
      "********\n",
      "[[  6  15  24]\n",
      " [  2 -13   8]\n",
      " [ -6 -11  -7]]\n",
      "********\n",
      "-4\n",
      "********\n",
      "[[ 2  2  2]\n",
      " [-1 -1 -3]\n",
      " [ 0  0  1]]\n",
      "********\n",
      "-41.999999999999986\n",
      "********\n",
      "[[ 22 -23   6]\n",
      " [ -2  -3   2]\n",
      " [-12  10  -2]]\n",
      "********\n",
      "[[-2  3 -2]\n",
      " [-2  3 -2]\n",
      " [-4 11  0]]\n"
     ]
    }
   ],
   "source": [
    "\n",
    "A=np.array([[1,4,6],[0,-3,2],[-2,-2,-2]])\n",
    "B=np.array([  [2,-1,0], [2,-1,0],[2,-3,1]])\n",
    "print(A-B)\n",
    "print(\"********\")\n",
    "print(4*A+B)\n",
    "print(\"********\")\n",
    "print(np.trace(A))\n",
    "print(\"********\")\n",
    "print(B.T)\n",
    "print(\"********\")\n",
    "print(np.linalg.det(A))\n",
    "print(\"********\")\n",
    "print(A@B)\n",
    "print(\"********\")\n",
    "print(B@A.T)"
   ]
  },
  {
   "cell_type": "markdown",
   "metadata": {},
   "source": [
    "# $$\\text{Exercise 5}$$\n",
    "\n",
    "write a python code to solve the system of equation  \n",
    "\\begin{equation}\\label{sysEqu}\n",
    "\\left\\lbrace \n",
    "\\begin{array}{ll}\n",
    "2x + y -2z &= 3,\\\\\n",
    "x-y-z &= 0,\\\\\n",
    "x+y+3z &=12\n",
    "\\end{array}\\right. \n",
    "\\end{equation}"
   ]
  },
  {
   "cell_type": "code",
   "execution_count": 10,
   "metadata": {},
   "outputs": [
    {
     "name": "stdout",
     "output_type": "stream",
     "text": [
      "[[3.5]\n",
      " [1. ]\n",
      " [2.5]]\n"
     ]
    }
   ],
   "source": [
    "import numpy as np\n",
    "A=np.array([[2,1,-2], [1, -1, -1],[1,1,3]])\n",
    "L= np.linalg.inv(A)\n",
    "B=np.array([[3],[0],[12]])\n",
    "L@B\n",
    "print(L@B)"
   ]
  },
  {
   "cell_type": "markdown",
   "metadata": {},
   "source": [
    "# $$\\text{Exercise 6}$$\n",
    "\n",
    "Let us consider the sequence $U_n$ given by \n",
    "\\begin{equation}\\label{fib}\n",
    "\\left\\lbrace \n",
    "\\begin{array}{ll}\n",
    "U_0 &= 1,\\\\\n",
    "U_1 &= 2,\\\\\n",
    "U_{n} &=-3U_{n-1} +U_{n-2}, \\;\\; \\forall\\; n=2,3,4\\cdots\n",
    "\\end{array}\\right. \n",
    "\\end{equation}\n",
    "\n",
    "Write a python function named  <b>SeqTerms</b> that takes as input an integer $n,\\;\\;n\\geq 0$ and return an array of the first $n+1$ terms (i.e. $U_0, \\cdots, U_{n}$) of the sequence \\eqref{fib}."
   ]
  },
  {
   "cell_type": "code",
   "execution_count": 11,
   "metadata": {},
   "outputs": [],
   "source": [
    "import numpy as np\n",
    "def SeqTerms(n):\n",
    "    U0=1\n",
    "    U1=2\n",
    "    x=np.array([])\n",
    "    y= np.array([U0,U1])\n",
    "    if n==0:\n",
    "        return(x)\n",
    "    elif n==1:\n",
    "        return (np.array([U0]))\n",
    "    else:\n",
    "        for i in range( 2, n+1):\n",
    "            Un=-3*U1 + U0\n",
    "            U0=U1\n",
    "            U1=Un\n",
    "            y= np.append(y,np.array([Un]))\n",
    "    return(y)\n",
    "\n",
    "    "
   ]
  },
  {
   "cell_type": "code",
   "execution_count": 12,
   "metadata": {},
   "outputs": [
    {
     "data": {
      "text/plain": [
       "array([ 1,  2, -5, 17])"
      ]
     },
     "execution_count": 12,
     "metadata": {},
     "output_type": "execute_result"
    }
   ],
   "source": [
    "SeqTerms(3)"
   ]
  },
  {
   "cell_type": "code",
   "execution_count": null,
   "metadata": {},
   "outputs": [],
   "source": []
  },
  {
   "cell_type": "markdown",
   "metadata": {},
   "source": [
    "# $$\\text{Exercise 7}$$\n",
    "\n",
    "Let $\\{ x_k\\}$ be a partition of $[0,1]$ such that $0=x_0<x_1<\\cdots<x_{99}<x_{100}=1$ and $H$ be the length of the $k$-th subinterval ($H = x_k - x_{k-1}$). \n",
    "\n",
    "1. Write a python code that use Euler’s method to solve the initial value problem\n",
    "\\begin{equation}\\label{eul1}\n",
    "  \\begin{cases}\n",
    "    y' = \\dfrac{2-2xy}{x^2+1},      & \\quad \\text{on } [0, 1]\\\\\\\\\n",
    "    y(0) = 1,\n",
    "  \\end{cases}\n",
    "\\end{equation}\n",
    "i.e. generates array of  $y_k\\approx g(x_k)=g_k$ where $g$ is the exact solution of \\eqref{eul1}\n",
    "\n",
    "2. The exact solution of the initial value problem is given by \n",
    "\\begin{equation}\\label{exact}\n",
    "g(x) = \\dfrac{2x+1}{x^2+1}\n",
    "\\end{equation}\n",
    "\n",
    "use $subplot$ to plot side by side\n",
    "- the exact and appromixate solution in the same window (i.e. ($y_k$  vs $x_k$ and $g_k$ vs $x_k$))\n",
    "- the error $e_k = |y_k -g_k| $ against $x_k$."
   ]
  },
  {
   "cell_type": "code",
   "execution_count": 15,
   "metadata": {
    "scrolled": true
   },
   "outputs": [],
   "source": [
    "import numpy as np\n",
    "def Euler(N):\n",
    "    f = lambda x,y : (2 - 2*x*y)/(x**2 + 1)\n",
    "    y=1\n",
    "    x=0\n",
    "    AA=[0]\n",
    "    BB=[1]\n",
    "    H= (1)/N\n",
    "    for k in range(1,N+1):\n",
    "        x= x + H\n",
    "        y= y + H*f(x,y)\n",
    "        AA.append(x)\n",
    "        BB.append(y)\n",
    "    return (AA,BB)\n",
    "AA,BB=Euler(100)\n"
   ]
  },
  {
   "cell_type": "code",
   "execution_count": 16,
   "metadata": {},
   "outputs": [
    {
     "data": {
      "image/png": "[encoded data removed]",
      "text/plain": [
       "<Figure size 432x288 with 2 Axes>"
      ]
     },
     "metadata": {
      "needs_background": "light"
     },
     "output_type": "display_data"
    }
   ],
   "source": [
    "import matplotlib.pyplot as plt\n",
    "plt.subplot(1,2, 1)\n",
    "x = np.linspace(0, 1, 101)\n",
    "\n",
    "y_x = (2*x + 1)/(x**2 + 1)\n",
    "plt.plot(x, y_x)\n",
    "plt.plot(AA[::5],BB[::5],'*' )\n",
    "plt.title('exact and approximate')\n",
    "plt.legend(['exact', 'approximation'])\n",
    "\n",
    "plt.subplot(1,2, 2)\n",
    "plt.plot(AA,abs( BB-y_x))\n",
    " \n",
    "plt.title('error')\n",
    "plt.show()"
   ]
  },
  {
   "cell_type": "markdown",
   "metadata": {},
   "source": [
    "# $$\\text{Exercise 8}\\quad (\\text{generalization of previous exercise})$$\n",
    "\n",
    "Let $\\{ x_k\\}$ be a partition of $[a,b]$ such that $a=x_0<x_1<\\cdots<x_{99}<x_{N}=b$ and $H$ be the constant length of the $k$-th subinterval ($H = x_k - x_{k-1}$). Let us consider initial value problem\n",
    "\n",
    "\\begin{equation}\\label{eul2}\n",
    "  \\begin{cases}\n",
    "    y' = f(x,y),      & \\quad \\text{on } [a, b]\\\\\\\\\n",
    "    y(a) = c,\n",
    "  \\end{cases}\n",
    "\\end{equation}\n",
    "\n",
    "1. Write a python function <b> EulerMethod </b> that takes $a,b,c,N,$ and $f$ and plot the approximate solution of \\eqref{eul2} using Euler method."
   ]
  },
  {
   "cell_type": "code",
   "execution_count": 17,
   "metadata": {},
   "outputs": [],
   "source": [
    "import numpy as np\n",
    "def EulerMethod(a,b,c,N,f):\n",
    "    y=c\n",
    "    x=a\n",
    "    A=[a]\n",
    "    B=[c]\n",
    "    H= (b-a)/N\n",
    "    for k in range(a+1,N+1):\n",
    "        x= x + H\n",
    "        y= y + H*f(x,y)\n",
    "        A.append(x)\n",
    "        B.append(y)\n",
    "    return (A,B)\n"
   ]
  },
  {
   "cell_type": "markdown",
   "metadata": {},
   "source": [
    "2. Test the function <b> EulerMethod </b> by using the data in Exercise 6"
   ]
  },
  {
   "cell_type": "code",
   "execution_count": 18,
   "metadata": {},
   "outputs": [
    {
     "data": {
      "text/plain": [
       "([0,\n",
       "  0.01,\n",
       "  0.02,\n",
       "  0.03,\n",
       "  0.04,\n",
       "  0.05,\n",
       "  0.060000000000000005,\n",
       "  0.07,\n",
       "  0.08,\n",
       "  0.09,\n",
       "  0.09999999999999999,\n",
       "  0.10999999999999999,\n",
       "  0.11999999999999998,\n",
       "  0.12999999999999998,\n",
       "  0.13999999999999999,\n",
       "  0.15,\n",
       "  0.16,\n",
       "  0.17,\n",
       "  0.18000000000000002,\n",
       "  0.19000000000000003,\n",
       "  0.20000000000000004,\n",
       "  0.21000000000000005,\n",
       "  0.22000000000000006,\n",
       "  0.23000000000000007,\n",
       "  0.24000000000000007,\n",
       "  0.25000000000000006,\n",
       "  0.26000000000000006,\n",
       "  0.2700000000000001,\n",
       "  0.2800000000000001,\n",
       "  0.2900000000000001,\n",
       "  0.3000000000000001,\n",
       "  0.3100000000000001,\n",
       "  0.3200000000000001,\n",
       "  0.3300000000000001,\n",
       "  0.34000000000000014,\n",
       "  0.35000000000000014,\n",
       "  0.36000000000000015,\n",
       "  0.37000000000000016,\n",
       "  0.38000000000000017,\n",
       "  0.3900000000000002,\n",
       "  0.4000000000000002,\n",
       "  0.4100000000000002,\n",
       "  0.4200000000000002,\n",
       "  0.4300000000000002,\n",
       "  0.4400000000000002,\n",
       "  0.45000000000000023,\n",
       "  0.46000000000000024,\n",
       "  0.47000000000000025,\n",
       "  0.48000000000000026,\n",
       "  0.49000000000000027,\n",
       "  0.5000000000000002,\n",
       "  0.5100000000000002,\n",
       "  0.5200000000000002,\n",
       "  0.5300000000000002,\n",
       "  0.5400000000000003,\n",
       "  0.5500000000000003,\n",
       "  0.5600000000000003,\n",
       "  0.5700000000000003,\n",
       "  0.5800000000000003,\n",
       "  0.5900000000000003,\n",
       "  0.6000000000000003,\n",
       "  0.6100000000000003,\n",
       "  0.6200000000000003,\n",
       "  0.6300000000000003,\n",
       "  0.6400000000000003,\n",
       "  0.6500000000000004,\n",
       "  0.6600000000000004,\n",
       "  0.6700000000000004,\n",
       "  0.6800000000000004,\n",
       "  0.6900000000000004,\n",
       "  0.7000000000000004,\n",
       "  0.7100000000000004,\n",
       "  0.7200000000000004,\n",
       "  0.7300000000000004,\n",
       "  0.7400000000000004,\n",
       "  0.7500000000000004,\n",
       "  0.7600000000000005,\n",
       "  0.7700000000000005,\n",
       "  0.7800000000000005,\n",
       "  0.7900000000000005,\n",
       "  0.8000000000000005,\n",
       "  0.8100000000000005,\n",
       "  0.8200000000000005,\n",
       "  0.8300000000000005,\n",
       "  0.8400000000000005,\n",
       "  0.8500000000000005,\n",
       "  0.8600000000000005,\n",
       "  0.8700000000000006,\n",
       "  0.8800000000000006,\n",
       "  0.8900000000000006,\n",
       "  0.9000000000000006,\n",
       "  0.9100000000000006,\n",
       "  0.9200000000000006,\n",
       "  0.9300000000000006,\n",
       "  0.9400000000000006,\n",
       "  0.9500000000000006,\n",
       "  0.9600000000000006,\n",
       "  0.9700000000000006,\n",
       "  0.9800000000000006,\n",
       "  0.9900000000000007,\n",
       "  1.0000000000000007],\n",
       " [1,\n",
       "  1.0197980201979802,\n",
       "  1.0393822672910638,\n",
       "  1.058741214877861,\n",
       "  1.0778636260480863,\n",
       "  1.0967385750495346,\n",
       "  1.1153554679450512,\n",
       "  1.1337040621781858,\n",
       "  1.151774484972815,\n",
       "  1.1695572504991012,\n",
       "  1.1870432757456377,\n",
       "  1.2042238950454693,\n",
       "  1.2210908732117656,\n",
       "  1.2376364172472158,\n",
       "  1.2538531865996165,\n",
       "  1.2697343019445566,\n",
       "  1.2852733524845112,\n",
       "  1.300464401761946,\n",
       "  1.3153019919921445,\n",
       "  1.3297811469293415,\n",
       "  1.3438973732873056,\n",
       "  1.3576466607427153,\n",
       "  1.3710254805564621,\n",
       "  1.3840307828543443,\n",
       "  1.3966599926144607,\n",
       "  1.4089110044139221,\n",
       "  1.4207821759922732,\n",
       "  1.4322723206932162,\n",
       "  1.4433806988498539,\n",
       "  1.4541070081817151,\n",
       "  1.4644513732742928,\n",
       "  1.4744143342137137,\n",
       "  1.483996834450499,\n",
       "  1.4932002079671611,\n",
       "  1.5020261658246579,\n",
       "  1.5104767821624996,\n",
       "  1.5185544797266197,\n",
       "  1.526262014997992,\n",
       "  1.5336024629934615,\n",
       "  1.5405792018083655,\n",
       "  1.5471958969683077,\n",
       "  1.553456485654944,\n",
       "  1.5593651608678805,\n",
       "  1.564926355581811,\n",
       "  1.5701447269548672,\n",
       "  1.5750251406408597,\n",
       "  1.5795726552546796,\n",
       "  1.5837925070366485,\n",
       "  1.5876900947580792,\n",
       "  1.5912709649067533,\n",
       "  1.5945407971874994,\n",
       "  1.5975053903695386,\n",
       "  1.6001706485088307,\n",
       "  1.602542567570277,\n",
       "  1.6046272224713616,\n",
       "  1.6064307545656533,\n",
       "  1.607959359581537,\n",
       "  1.6092192760286428,\n",
       "  1.6102167740816715,\n",
       "  1.6109581449486965,\n",
       "  1.611449690728561,\n",
       "  1.6116977147596896,\n",
       "  1.611708512460484,\n",
       "  1.6114883626594945,\n",
       "  1.6110435194117352,\n",
       "  1.610380204295846,\n",
       "  1.6095045991852963,\n",
       "  1.6084228394854667,\n",
       "  1.6071410078272321,\n",
       "  1.6056651282065995,\n",
       "  1.6040011605590208,\n",
       "  1.6021549957561898,\n",
       "  1.6001324510124535,\n",
       "  1.5979392656873952,\n",
       "  1.5955810974706897,\n",
       "  1.5930635189349711,\n",
       "  1.59039201444219,\n",
       "  1.5875719773887593,\n",
       "  1.5846087077746929,\n",
       "  1.5815074100819153,\n",
       "  1.5782731914469699,\n",
       "  1.5749110601134508,\n",
       "  1.57142592414965,\n",
       "  1.5678225904171115,\n",
       "  1.5641057637760423,\n",
       "  1.5602800465138114,\n",
       "  1.556349937983093,\n",
       "  1.5523198344365587,\n",
       "  1.5481940290453935,\n",
       "  1.543976712089304,\n",
       "  1.5396719713060953,\n",
       "  1.5352837923893123,\n",
       "  1.5308160596228677,\n",
       "  1.5262725566420188,\n",
       "  1.5216569673104887,\n",
       "  1.5169728767039714,\n",
       "  1.5122237721906928,\n",
       "  1.5074130446001424,\n",
       "  1.502543989471514,\n",
       "  1.497619808373824,\n",
       "  1.4926436102900857])"
      ]
     },
     "execution_count": 18,
     "metadata": {},
     "output_type": "execute_result"
    }
   ],
   "source": [
    "EulerMethod(0,1,1,100, lambda x,y:(2 - 2*x*y)/(x**2 + 1))"
   ]
  },
  {
   "cell_type": "markdown",
   "metadata": {},
   "source": [
    "# $$\\text{Exercise 9}$$\n",
    "\n",
    "Consider a 25 L tank that will be filled with water in two different ways. In the first case, the water volume that enters the tank per time (rate of volume increase) is piecewise constant, while in the second case, it is continuously increasing.\n",
    "\n",
    "For each of these two cases, you are asked to develop a code that can compute how the total water volume V  in the tank will develop with time t over a period of 3 s. Your calculations must be based on the information given: the initial volume of water (1L in both cases), and the volume of water entering the tank per time. Write a python code to solve and plot the exact volume against the time for the rate $r(t)$ given by \n",
    "1. Case 1: piecewise constant\n",
    "\\begin{equation}\n",
    "r(t) =\n",
    "  \\begin{cases}\n",
    "    1 L/s      & \\quad \\text{if }\\quad  0s<t<1s\\\\\n",
    "    3 L/s  & \\quad \\text{if }\\quad  1s\\leq t< 2s\\\\\n",
    "    7 L/s & \\quad  \\text{if }\\quad  2s\\leq t\\leq 3s\n",
    "  \\end{cases}\n",
    "\\end{equation}\n",
    "\n",
    "2. Case 2:  $r(t) = e^t$ for all $0< t\\leq 3$."
   ]
  },
  {
   "cell_type": "code",
   "execution_count": 19,
   "metadata": {},
   "outputs": [],
   "source": [
    "def func(t):\n",
    "    if 0<t<1:\n",
    "        return 1\n",
    "    elif 1<t<2:\n",
    "        return 3\n",
    "    elif 2<t<3:\n",
    "        return 7\n",
    "f=np.vectorize(func)\n",
    "\n",
    "\n",
    "    "
   ]
  },
  {
   "cell_type": "code",
   "execution_count": 20,
   "metadata": {},
   "outputs": [
    {
     "name": "stdout",
     "output_type": "stream",
     "text": [
      "[0, 0.3, 0.6, 0.8999999999999999, 1.2, 1.5, 1.8, 2.1, 2.4, 2.6999999999999997, 2.9999999999999996] [1, 1.3, 1.6, 1.9000000000000001, 2.8, 3.6999999999999997, 4.6, 6.699999999999999, 8.799999999999999, 10.899999999999999, 12.999999999999998]\n"
     ]
    }
   ],
   "source": [
    "import numpy as np\n",
    "def Method2(a,b,c,N,f):\n",
    "    v=c\n",
    "    x=a\n",
    "    E=[a]\n",
    "    F=[c]\n",
    "    H= (b-a)/N\n",
    "    for k in range(a+1,N+1):\n",
    "        x= x + H\n",
    "        v= v + H*f(x)\n",
    "        E.append(x)\n",
    "        F.append(v)\n",
    "    return (E,F)\n",
    "E,F=Method2(0,3,1,10,f)\n",
    "print(E,F)"
   ]
  },
  {
   "cell_type": "code",
   "execution_count": 113,
   "metadata": {},
   "outputs": [
    {
     "name": "stdout",
     "output_type": "stream",
     "text": [
      "[0, 0.3, 0.6, 0.8999999999999999, 1.2, 1.5, 1.8, 2.1, 2.4, 2.6999999999999997, 2.9999999999999996] [1, 1.404957642272801, 1.9515932823899536, 2.6894742157370386, 3.685509292558003, 5.030016013659422, 6.844910252983306, 9.294761226753602, 12.601714140946083, 17.065633658407933, 23.09129473536423]\n"
     ]
    }
   ],
   "source": [
    "\n",
    "import numpy as np\n",
    "def Method(a,b,c,N,f):\n",
    "    v=c\n",
    "    x=a\n",
    "    C=[a]\n",
    "    D=[c]\n",
    "    H= (b-a)/N\n",
    "    for k in range(a+1,N+1):\n",
    "        x= x + H\n",
    "        v= v + H*f(x)\n",
    "        C.append(x)\n",
    "        D.append(v)\n",
    "    return (C,D)\n",
    "C,D=Method(0,3,1,10, lambda x: np.exp(x))\n",
    "print(C,D)"
   ]
  },
  {
   "cell_type": "code",
   "execution_count": 115,
   "metadata": {},
   "outputs": [
    {
     "data": {
      "image/png": "[encoded data removed]",
      "text/plain": [
       "<Figure size 432x288 with 2 Axes>"
      ]
     },
     "metadata": {
      "needs_background": "light"
     },
     "output_type": "display_data"
    }
   ],
   "source": [
    "import matplotlib.pyplot as plt\n",
    "plt.subplot(2,4, 1)\n",
    "plt.plot(E,F)\n",
    "plt.title('')\n",
    "\n",
    "\n",
    "plt.subplot(2,4, 2)\n",
    "plt.plot(C,D)\n",
    " \n",
    "plt.title('')\n",
    "plt.show()"
   ]
  },
  {
   "cell_type": "code",
   "execution_count": null,
   "metadata": {},
   "outputs": [],
   "source": []
  }
 ],
 "metadata": {
  "kernelspec": {
   "display_name": "Python 3",
   "language": "python",
   "name": "python3"
  },
  "language_info": {
   "codemirror_mode": {
    "name": "ipython",
    "version": 3
   },
   "file_extension": ".py",
   "mimetype": "text/x-python",
   "name": "python",
   "nbconvert_exporter": "python",
   "pygments_lexer": "ipython3",
   "version": "3.7.3"
  }
 },
 "nbformat": 4,
 "nbformat_minor": 4
}
